{
  "nbformat": 4,
  "nbformat_minor": 0,
  "metadata": {
    "colab": {
      "provenance": [],
      "collapsed_sections": []
    },
    "kernelspec": {
      "name": "python3",
      "display_name": "Python 3"
    }
  },
  "cells": [
    {
      "cell_type": "code",
      "source": [
        "listaAdj = {} # para cada chave (cidade) é gerado um lista de adjacentes\n",
        "vizinhos = []\n",
        "dados = open(\"cidades.txt\",\"r\")\n",
        "linha = dados.readline()\n",
        "while linha:\n",
        "    valores = linha.split(\",\")\n",
        "    if valores[0] in listaAdj:\n",
        "      vizinhos = listaAdj.get(valores[0])\n",
        "      vizinhos.append(valores[1])\n",
        "      listaAdj[valores[0]] = vizinhos\n",
        "    else:\n",
        "      vizinhos = []\n",
        "      listaAdj[valores[0]] = list()\n",
        "      vizinhos.append(valores[1])\n",
        "      listaAdj[valores[0]] = vizinhos    \n",
        "    \n",
        "    linha = dados.readline()\n",
        "\n",
        "dados.close()\n"
      ],
      "metadata": {
        "id": "5zn7n5_CxjPB"
      },
      "execution_count": null,
      "outputs": []
    },
    {
      "cell_type": "code",
      "source": [
        "print(listaAdj)"
      ],
      "metadata": {
        "colab": {
          "base_uri": "https://localhost:8080/"
        },
        "id": "_hcfB3jU0rNP",
        "outputId": "edebb0b6-db94-4e9c-ec68-4cbc37a5f31d"
      },
      "execution_count": null,
      "outputs": [
        {
          "output_type": "stream",
          "name": "stdout",
          "text": [
            "{'Arad': ['Zerind', 'Timisoara', 'Sibiu'], 'Zerind': ['Oradea'], 'Oradea': ['Sibiu'], 'Timisoara': ['Lugoj'], 'Lugoj': ['Mehadia'], 'Mehadia': ['Drobeta'], 'Drobeta': ['Craiova'], 'Craiova': ['Rimnicu Vilcea', 'Pitesti'], 'Sibiu': ['Fagaras', 'Rimnicu Vilcea'], 'Rimnicu Vilcea': ['Pitesti'], 'Fagaras': ['Bucharest'], 'Pitesti': ['Bucharest'], 'Bucharest': ['Urziceni', 'Giurgiu'], 'Urziceni': ['Vaslui', 'Hirsova'], 'Vaslui': ['Iasi'], 'Iasi': ['Neamt'], 'Hirsova': ['Eforie']}\n"
          ]
        }
      ]
    },
    {
      "cell_type": "markdown",
      "source": [
        "Exemplo de busca em largura\n",
        "\n",
        "Construção do Grafo (Espaço de estados)\n",
        "Considera o arquivo \"cidades.txt\" como um grafo direcionado"
      ],
      "metadata": {
        "id": "UkLZ3y4cmvlx"
      }
    },
    {
      "cell_type": "code",
      "source": [
        "def bfs(borda, queue, cidade):\n",
        "  borda.append(cidade)\n",
        "  queue.append(cidade)\n",
        "\n",
        "  while queue:\n",
        "    s = queue.pop(0) \n",
        "    print (s) \n",
        "\n",
        "    if s in listaAdj:\n",
        "      for vizinho in listaAdj[s]:\n",
        "        if vizinho not in borda:        \n",
        "          borda.append(vizinho)\n",
        "          queue.append(vizinho)\n",
        "\n",
        "# Driver Code\n",
        "borda = []\n",
        "fila = []     #Inicializa a Fila\n",
        "print(\"Pecurso iniciando em Arad\")\n",
        "bfs(borda, fila, 'Arad')"
      ],
      "metadata": {
        "id": "QwodFtZMjKqu",
        "colab": {
          "base_uri": "https://localhost:8080/"
        },
        "outputId": "482d6804-e603-46ff-db58-67cbb0c86bdf"
      },
      "execution_count": null,
      "outputs": [
        {
          "output_type": "stream",
          "name": "stdout",
          "text": [
            "Pecurso iniciando em Arad\n",
            "Arad\n",
            "Zerind\n",
            "Timisoara\n",
            "Sibiu\n",
            "Oradea\n",
            "Lugoj\n",
            "Fagaras\n",
            "Rimnicu_Vilcea\n",
            "Mehadia\n",
            "Bucharest\n",
            "Pitesti\n",
            "Drobeta\n",
            "Urziceni\n",
            "Giurgiu\n",
            "Craiova\n",
            "Vaslui\n",
            "Hirsova\n",
            "Iasi\n",
            "Eforie\n",
            "Neamt\n"
          ]
        }
      ]
    }
  ]
}
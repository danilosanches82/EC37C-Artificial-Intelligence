{
  "cells": [
    {
      "cell_type": "markdown",
      "id": "26464cc5",
      "metadata": {
        "id": "26464cc5"
      },
      "source": [
        "### Introdução Algoritmos Genéticos: \n",
        "\n",
        "Exemplo $f(x) = x^2$\n",
        "\n",
        "**Observação:**\n",
        "* Utiliza a técnica de elitismo considerando os $k$ últimos melhores indivíduos da população."
      ]
    },
    {
      "cell_type": "code",
      "source": [
        "# genetic algorithm search for continuous function optimization\n",
        "from numpy.random import randint\n",
        "from numpy.random import rand"
      ],
      "metadata": {
        "id": "3gYQJRtuG7q4"
      },
      "id": "3gYQJRtuG7q4",
      "execution_count": 1,
      "outputs": []
    },
    {
      "cell_type": "code",
      "source": [
        "# objective function\n",
        "def objective(n_bits, bitstring):\n",
        "  # convert bitstring to a string of chars\n",
        "  chars = ''.join([str(s) for s in bitstring])     \n",
        "  # convert string to integer (decimal base)\n",
        "  integer = int(chars, 2)            \n",
        "  return integer\t"
      ],
      "metadata": {
        "id": "shpKRhH2cyGQ"
      },
      "id": "shpKRhH2cyGQ",
      "execution_count": 2,
      "outputs": []
    },
    {
      "cell_type": "code",
      "source": [
        "# tournament selection\n",
        "def selection(pop, k):\n",
        "\t# first random selection\n",
        "\tselection_ix = randint(len(pop))\n",
        "\tfor ix in randint(0, len(pop), k-1):\n",
        "\t\t# check if better (e.g. perform a tournament)\n",
        "\t\tif pop[ix][1] > pop[selection_ix][1]:\n",
        "\t\t\tselection_ix = ix\n",
        "\treturn pop[selection_ix][0]"
      ],
      "metadata": {
        "id": "ja-57Mr0OUF8"
      },
      "id": "ja-57Mr0OUF8",
      "execution_count": 3,
      "outputs": []
    },
    {
      "cell_type": "code",
      "source": [
        "# crossover two parents to create two children\n",
        "def crossover(p1, p2, r_cross):\n",
        "\t# children are copies of parents by default\n",
        "\tc1, c2 = p1.copy(), p2.copy()\n",
        "\t# check for recombination\n",
        "\tif rand() < r_cross:\n",
        "\t\t# select crossover point that is not on the end of the string\n",
        "\t\tpt = randint(1, len(p1)-1)\t\t\n",
        "\t\t# perform crossover\n",
        "\t\tc1 = p1[:pt] + p2[pt:]\n",
        "\t\tc2 = p2[:pt] + p1[pt:]\n",
        "\treturn [c1, c2]"
      ],
      "metadata": {
        "id": "xDlnBm1qOUCE"
      },
      "id": "xDlnBm1qOUCE",
      "execution_count": 4,
      "outputs": []
    },
    {
      "cell_type": "code",
      "source": [
        "# mutation operator\n",
        "def mutation(bitstring, r_mut):\n",
        "\tfor i in range(len(bitstring)):\n",
        "\t\t# check for a mutation\n",
        "\t\tif rand() < r_mut:\n",
        "\t\t\t# flip the bit\n",
        "\t\t\tbitstring[i] = 1 - bitstring[i]"
      ],
      "metadata": {
        "id": "720N0tKhOT2U"
      },
      "id": "720N0tKhOT2U",
      "execution_count": 5,
      "outputs": []
    },
    {
      "cell_type": "code",
      "source": [
        "# apply elitism with numeber of solutions > 1\n",
        "def elitism(pop, best_ind):\n",
        "  # sort from fitness value (worst to the best)\n",
        "  pop.sort(key = lambda pop: pop[:][1])\n",
        "  # update worst position with best_ind\n",
        "  pop[0:len(best_ind)]=best_ind.copy()\n",
        "  return pop"
      ],
      "metadata": {
        "id": "Qs4DkmA0OnJp"
      },
      "id": "Qs4DkmA0OnJp",
      "execution_count": 57,
      "outputs": []
    },
    {
      "cell_type": "code",
      "source": [
        "# Testing elitism function\n",
        "# n_pop = 10\n",
        "# tempPop = [randint(0, 2, n_bits).tolist() for _ in range(n_pop)]\t\n",
        "# scores = [objective(n_bits, p) for p in tempPop]\n",
        "# pop=list()\n",
        "# best_ind = list()\n",
        "# # Concatenate with pop\n",
        "# for i in zip(tempPop,scores):\n",
        "#   pop.append(i)          \n",
        "# # Format to list style\n",
        "# for i in range(0, len(pop)): \n",
        "#   pop[i] = list(pop[i])\t\t\n",
        "# # print(best_ind)\n",
        "# # Save the best (elistism)\n",
        "# # Sort worst to best\n",
        "# pop.sort(key = lambda pop: pop[:][1])\t \n",
        "# best_ind = pop[n_pop-5:].copy()\n",
        "# pop = elitism(pop, best_ind)\n",
        "# print (pop)"
      ],
      "metadata": {
        "id": "5KUBpFKgCBEv"
      },
      "id": "5KUBpFKgCBEv",
      "execution_count": 40,
      "outputs": []
    },
    {
      "cell_type": "code",
      "source": [
        "# genetic algorithm procedure\n",
        "def genetic_algorithm(n_bits, n_iter, n_pop, r_cross, r_mut, k, elt):\n",
        "\t# Pop: data structure used:\n",
        "\t##### index [0] -> number of bits (0,1)\n",
        "\t##### index [1] -> fitness\n",
        "\tpop = list()\n",
        "  # elitism\n",
        "\tbest_ind = list()\n",
        "\t# initial temp population with random bitstring\n",
        "\ttempPop = [randint(0, 2, n_bits).tolist() for _ in range(n_pop)]\t\n",
        "\t# keep track of best solution\n",
        "\tbest, best_eval = 0, objective(n_bits, tempPop[0])\n",
        "\t# enumerate generations\n",
        "\tfor gen in range(n_iter):\n",
        "\t\t\t# evaluate all candidates in the population\n",
        "\t\t\tscores = [objective(n_bits, p) for p in tempPop]\n",
        "\t\t\t# Concatenate with pop\n",
        "\t\t\tfor i in zip(tempPop,scores):\n",
        "\t\t\t\tpop.append(i)          \n",
        "\t\t\t# Format to list style\n",
        "\t\t\tfor i in range(0, len(pop)): \n",
        "\t\t\t\tpop[i] = list(pop[i])\t\t\n",
        "\t\t  # check if elitism was initialized\n",
        "\t\t\tif best_ind:\t\t\t\t\n",
        "\t\t\t\tpop = elitism(pop, best_ind)\t\t\t\n",
        "\t\t\t# Sort worst to the best\n",
        "\t\t\tpop.sort(key = lambda pop: pop[:][1])\t \t\t\t\t\t\n",
        "\t\t\t# Copy the last 'n' sorted solutions from pop\n",
        "\t\t\tbest_ind = pop[n_pop-elt:].copy()\n",
        "\t\t\t# check for new best solution\t\t\t\n",
        "\t\t\tfor i in range(n_pop):\n",
        "\t\t\t\tif scores[i] > best_eval:\n",
        "\t\t\t\t\tbest, best_eval = pop[i][0], pop[i][1]\n",
        "\t\t\t\t\tprint(\">%d, new best = %f\" % (gen,  pop[i][1]))\t\t\t\t\t\t\n",
        "\t\t\t# select parents\n",
        "\t\t\tselected = [selection(pop, k) for _ in range(n_pop)]\n",
        "\t\t\t# create the next generation\n",
        "\t\t\tchildren = list()\n",
        "\t\t\tfor i in range(0, n_pop, 2):\n",
        "\t\t\t\t# get selected parents in pairs\n",
        "\t\t\t\tp1, p2 = selected[i], selected[i+1]\n",
        "\t\t\t\t# crossover and mutation\n",
        "\t\t\t\tfor c in crossover(p1, p2, r_cross):\n",
        "\t\t\t\t\t# mutation\n",
        "\t\t\t\t\tmutation(c, r_mut)\n",
        "\t\t\t\t\t# store for next generation\n",
        "\t\t\t\t\tchildren.append(c)\n",
        "\t\t\t# replace population\n",
        "\t\t\ttempPop = children\t\t\t\n",
        "\treturn tempPop"
      ],
      "metadata": {
        "id": "x2aUXfZxGemj"
      },
      "id": "x2aUXfZxGemj",
      "execution_count": 85,
      "outputs": []
    },
    {
      "cell_type": "code",
      "source": [
        "# define the total iterations\n",
        "n_iter = 50\n",
        "# bits per variable\n",
        "n_bits = 5\n",
        "# define the population size\n",
        "n_pop = 6\n",
        "# crossover rate\n",
        "r_cross = 0.9\n",
        "# mutation rate\n",
        "r_mut = 0.2\n",
        "# tornament selection k\n",
        "k = 3\n",
        "# optimal x value\n",
        "x = 31\n",
        "# elistism size\n",
        "elt = 1\n",
        "# perform the genetic algorithm search\n",
        "pop = genetic_algorithm(n_bits, n_iter, n_pop, r_cross, r_mut, k, elt)\n",
        "# evaluate all candidates in the population\n",
        "scores = [objective(n_bits, p) for p in pop]\n",
        "# Concatenate pop and scores\n",
        "print(\"Final population:\")\n",
        "for i in zip(pop,scores):\n",
        "    print(i)"
      ],
      "metadata": {
        "id": "S9iezNU3HGU1",
        "colab": {
          "base_uri": "https://localhost:8080/"
        },
        "outputId": "75c553ac-2d3d-43f6-ee18-a9db0c9a9cb4"
      },
      "id": "S9iezNU3HGU1",
      "execution_count": 89,
      "outputs": [
        {
          "output_type": "stream",
          "name": "stdout",
          "text": [
            ">1, new best = 7.000000\n",
            ">1, new best = 8.000000\n",
            ">1, new best = 11.000000\n",
            ">1, new best = 14.000000\n",
            ">2, new best = 14.000000\n",
            ">2, new best = 16.000000\n",
            ">2, new best = 18.000000\n",
            ">2, new best = 20.000000\n",
            ">3, new best = 20.000000\n",
            ">3, new best = 22.000000\n",
            ">4, new best = 22.000000\n",
            ">4, new best = 22.000000\n",
            ">4, new best = 22.000000\n",
            ">4, new best = 23.000000\n",
            ">5, new best = 23.000000\n",
            ">5, new best = 24.000000\n",
            ">5, new best = 24.000000\n",
            ">5, new best = 26.000000\n",
            ">6, new best = 26.000000\n",
            ">6, new best = 26.000000\n",
            ">6, new best = 28.000000\n",
            ">7, new best = 28.000000\n",
            ">7, new best = 28.000000\n",
            ">7, new best = 28.000000\n",
            ">8, new best = 28.000000\n",
            ">8, new best = 28.000000\n",
            ">8, new best = 28.000000\n",
            ">9, new best = 30.000000\n",
            ">10, new best = 30.000000\n",
            ">10, new best = 30.000000\n",
            ">11, new best = 30.000000\n",
            ">11, new best = 30.000000\n",
            ">12, new best = 30.000000\n",
            ">12, new best = 30.000000\n",
            ">12, new best = 30.000000\n",
            ">13, new best = 30.000000\n",
            ">13, new best = 30.000000\n",
            ">14, new best = 30.000000\n",
            ">15, new best = 30.000000\n",
            ">15, new best = 30.000000\n",
            ">15, new best = 30.000000\n",
            ">16, new best = 30.000000\n",
            ">17, new best = 31.000000\n",
            "Final population:\n",
            "([1, 1, 1, 0, 1], 29)\n",
            "([1, 1, 0, 0, 0], 24)\n",
            "([1, 1, 1, 1, 1], 31)\n",
            "([1, 1, 1, 1, 1], 31)\n",
            "([1, 1, 1, 1, 1], 31)\n",
            "([1, 0, 1, 1, 1], 23)\n"
          ]
        }
      ]
    }
  ],
  "metadata": {
    "kernelspec": {
      "display_name": "IA",
      "language": "python",
      "name": "ia"
    },
    "language_info": {
      "codemirror_mode": {
        "name": "ipython",
        "version": 3
      },
      "file_extension": ".py",
      "mimetype": "text/x-python",
      "name": "python",
      "nbconvert_exporter": "python",
      "pygments_lexer": "ipython3",
      "version": "3.10.4"
    },
    "colab": {
      "provenance": [],
      "collapsed_sections": []
    }
  },
  "nbformat": 4,
  "nbformat_minor": 5
}
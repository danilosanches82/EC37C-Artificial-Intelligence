{
  "cells": [
    {
      "cell_type": "markdown",
      "id": "26464cc5",
      "metadata": {
        "id": "26464cc5"
      },
      "source": [
        "\n",
        "\n",
        "Material de referência:\n",
        "\n",
        "* https://github.com/Goktug/8queens-simulated-annealing-python/blob/master/simulated-annealing.py\n",
        "\n",
        "* http://www.lac.inpe.br/~lorena/cap/Aula_C01.pdf\n",
        "\n",
        "* https://medium.com/analytics-vidhya/simulated-annealing-869e171e763c\n",
        "\n",
        "* https://machinelearningmastery.com/simulated-annealing-from-scratch-in-python/\n",
        "\n",
        "* https://github.com/ivanmpe/recozimento-simulado-n-rainhas/blob/master/simulated_annealing.py\n",
        "\n",
        "* https://github.com/vitorverasm/ai-nqueens\n"
      ]
    },
    {
      "cell_type": "code",
      "source": [
        "# Packages\n",
        "import math\n",
        "import copy\n",
        "import random\n",
        "# from  random import shuffle\n",
        "\n",
        "# Draw board solution\n",
        "import numpy as np\n",
        "import matplotlib.pyplot as plt\n",
        "import seaborn as sns"
      ],
      "metadata": {
        "id": "Wp9pzTegEnnJ"
      },
      "id": "Wp9pzTegEnnJ",
      "execution_count": 11,
      "outputs": []
    },
    {
      "cell_type": "code",
      "execution_count": 12,
      "id": "456b836c",
      "metadata": {
        "id": "456b836c"
      },
      "outputs": [],
      "source": [
        "class State:\n",
        "    def __init__(self, state):\n",
        "        #state is a list (solution)\n",
        "        self.state = state\n",
        "        \n",
        "    #number of attacks\n",
        "    def evaluation(self):\n",
        "        h = 0        \n",
        "        #check for diagonal attacks\n",
        "        for i in range(0, len(self.state)):\n",
        "            for j in range(0, len(self.state)):\n",
        "                if j > i:\n",
        "                    if abs(i - j) == abs(self.state[i] - self.state[j]):\n",
        "                       h += 1\n",
        "                    if abs(self.state[i] - self.state[j]) == 0:\n",
        "                       h += 1 \n",
        "        return h\n",
        "    \n",
        "    def getCurrentState(self):\n",
        "        return self.state\n",
        "    \n",
        "    def randon_neighbor(self, current_state): #returns a randon state\n",
        "        randon_state = current_state.getCurrentState()\n",
        "        # select a randon movement\n",
        "        neighbor = random.sample(range(0, len(randon_state) - 1), 2)        \n",
        "        randon_state[neighbor[0]] = neighbor[1]\n",
        "\n",
        "        return State(randon_state)\n",
        "\n",
        "    def best_neighbor(self, current_state): #returns the best neighbor\n",
        "        # Dictionary with all possible solution for each queen\n",
        "        neighbors = {}\n",
        "        state = current_state.getCurrentState()\n",
        "        for i in range(0, len(state)):\n",
        "            for j in range(0, len(state)):\n",
        "                # print(\"%d %d\" % (i,j))\n",
        "                if j != state[i]:\n",
        "                    temp = state.copy()\n",
        "                    temp[i] = j\n",
        "                    #Generate a new solution list (state)\n",
        "                    temp = State(temp)                    \n",
        "                    #Evaluate the number of attacks (heuristic) for each new state\n",
        "                    neighbors[(i, j)] = temp.evaluation() #list of neighbors' evaluation value\n",
        "                    #print(\"%d %d %d\" % (i,j,temp.evaluation()))\n",
        "                    #print(neighbors)\n",
        "        \n",
        "        best_neighbors = []\n",
        "        best_h = current_state.evaluation() #assign current state evaluation to the best evaluation\n",
        "        \n",
        "        #Iterate dict itens (i,j)\n",
        "        # Where i is the key and h the value (number of attacks)\n",
        "        for i, h in neighbors.items():\n",
        "            #check if there is a better state than the current state\n",
        "            if h < best_h: \n",
        "                best_h = h\n",
        "                # best_neighbors.clear()\n",
        "            if h == best_h:\n",
        "                best_neighbors.append(i)\n",
        "\n",
        "        #if there are more than one better solution then choose one of them randomly\n",
        "        # It is also possible to choose in a greedy way\n",
        "        if len(best_neighbors) > 0:             \n",
        "            random_index = random.randint(0, len(best_neighbors) - 1)\n",
        "            state[best_neighbors[random_index][0]] = best_neighbors[random_index][1]\n",
        "        else:\n",
        "          randon_state = current_state.getCurrentState()\n",
        "          # select a randon choice\n",
        "          neighbor = random.sample(range(0, len(randon_state) - 1), 2)        \n",
        "          randon_state[neighbor[0]] = neighbor[1]    \n",
        "\n",
        "        return State(state) "
      ]
    },
    {
      "cell_type": "code",
      "execution_count": 13,
      "id": "0aa6a15f",
      "metadata": {
        "id": "0aa6a15f"
      },
      "outputs": [],
      "source": [
        "\n",
        "#board graphic based on the solution\n",
        "def board(solution): \n",
        "    matrix = np.zeros([8,8], dtype=int)\n",
        "    matrix = matrix.tolist()\n",
        "    for item in solution:\n",
        "        for i in range(len(solution)):\n",
        "            if i == item:\n",
        "                for j in range(len(solution)):\n",
        "                    if  j == solution.index(item):\n",
        "                        matrix[i][j] = 1\n",
        "                        \n",
        "    l =[]\n",
        "    for i in range(1, len(solution)+1):\n",
        "        l.append(i)\n",
        "    \n",
        "    plt.figure(figsize=(5,5))\n",
        "    sns.heatmap(matrix, linewidths=.8,cbar=False,cmap='Set3',xticklabels=l,yticklabels=l)\n"
      ]
    },
    {
      "cell_type": "code",
      "source": [
        "def SA(initial_state, alpha, temp):\n",
        "    current_state = State(initial_state)\n",
        "    print(\"Solução inicial (s): h(s):%d\" % current_state.evaluation())\n",
        "    print(current_state.getCurrentState())\n",
        "\n",
        "    qtde_iter = 0\n",
        "    solution = False\n",
        "    for k in range(0, 100):            \n",
        "            #Geometric Reduction\n",
        "            temp *= alpha\n",
        "            \n",
        "            #Include a noise for each iteration\n",
        "            new_solution = current_state.best_neighbor(copy.deepcopy(current_state))\n",
        "            # print(\"New Solution: %d\" % new_solution.evaluation())\n",
        "            # print(\"Current Solution: %d\" % current_state.evaluation())\n",
        "\n",
        "            delta = -(new_solution.evaluation() - current_state.evaluation())\n",
        "            prob = pow(math.e, delta / temp)\n",
        "            # prob = math.exp(-delta / temp)\n",
        "            # print(\"%f %f %f\"%(delta, temp,prob))\n",
        "\n",
        "            # Evaluate delta signal\n",
        "            # We can accept the new solution if it has a better \n",
        "            # objective function evaluation (the difference is negative) \n",
        "            # or if the objective function is worse, but we \n",
        "            # probabilistically decide to accept it.\n",
        "            if delta < 0 or random.uniform(0, 1) < prob:\n",
        "                # print(\"%f < %f\"%(random.uniform(0, 1), prob))\n",
        "                current_state = new_solution\n",
        "\n",
        "            # print(current_state.evaluation())\n",
        "            #Testa se não existem ataques entre as rainhas, solução encontrada! \n",
        "            if current_state.evaluation() == 0 or temp == 0.0001:\n",
        "                print(\"Solução ótima encontrada!\")\n",
        "                print(\"Total: %d iteracoes\" % qtde_iter)\n",
        "                print(current_state.getCurrentState())\n",
        "                solution = True\n",
        "                break\n",
        "            else:\n",
        "              qtde_iter +=1    \n",
        "\n",
        "    #caso ao final de todo o Loop principal se encerre sem solução\n",
        "    if solution == False:\n",
        "        print(\"Não foi possivel encontrar a solução ótima!\")\n",
        "        print(\"Total: %d iteracoes\" % qtde_iter)   \n",
        "\n",
        "    return new_solution"
      ],
      "metadata": {
        "id": "DS-6VMIATHQv"
      },
      "id": "DS-6VMIATHQv",
      "execution_count": 27,
      "outputs": []
    },
    {
      "cell_type": "code",
      "execution_count": 30,
      "id": "5379b481",
      "metadata": {
        "colab": {
          "base_uri": "https://localhost:8080/",
          "height": 407
        },
        "id": "5379b481",
        "outputId": "0d58248b-2c4e-4e08-a8a7-bd3ba4af6709"
      },
      "outputs": [
        {
          "output_type": "stream",
          "name": "stdout",
          "text": [
            "Solução inicial (s): h(s):5\n",
            "[6, 5, 0, 7, 4, 3, 1, 2]\n",
            "Solução ótima encontrada!\n",
            "Total: 31 iteracoes\n",
            "[3, 5, 7, 2, 0, 6, 4, 1]\n"
          ]
        },
        {
          "output_type": "display_data",
          "data": {
            "text/plain": [
              "<Figure size 360x360 with 1 Axes>"
            ],
            "image/png": "[encoded data removed]"
          },
          "metadata": {
            "needs_background": "light"
          }
        }
      ],
      "source": [
        "# using random.sample()\n",
        "# to generate random initial_state\n",
        "initial_state = random.sample(range(0, 8), 8)\n",
        "# initial_state = [0, 0, 0, 3, 0, 5, 2, 1]\n",
        "solution = SA(initial_state, 0.85, 500)\n",
        "board(solution.getCurrentState())\n"
      ]
    }
  ],
  "metadata": {
    "kernelspec": {
      "display_name": "IA",
      "language": "python",
      "name": "ia"
    },
    "language_info": {
      "codemirror_mode": {
        "name": "ipython",
        "version": 3
      },
      "file_extension": ".py",
      "mimetype": "text/x-python",
      "name": "python",
      "nbconvert_exporter": "python",
      "pygments_lexer": "ipython3",
      "version": "3.10.4"
    },
    "colab": {
      "provenance": [],
      "collapsed_sections": []
    }
  },
  "nbformat": 4,
  "nbformat_minor": 5
}
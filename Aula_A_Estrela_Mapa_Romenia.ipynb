{
  "nbformat": 4,
  "nbformat_minor": 0,
  "metadata": {
    "colab": {
      "provenance": [],
      "collapsed_sections": [],
      "authorship_tag": "ABX9TyPt3zktuIepE4URjKhRGwFL"
    },
    "kernelspec": {
      "name": "python3",
      "display_name": "Python 3"
    },
    "language_info": {
      "name": "python"
    }
  },
  "cells": [
    {
      "cell_type": "code",
      "execution_count": null,
      "metadata": {
        "id": "HLtT794OCkbn"
      },
      "outputs": [],
      "source": [
        "listaAdj = {\n",
        "            'Arad': {'Sibiu': 140, 'Zerind': 75, 'Timisoara': 118},\n",
        "            'Zerind': {'Arad': 75, 'Oradea': 71},\n",
        "            'Oradea': {'Zerind': 71, 'Sibiu': 151},\n",
        "            'Sibiu': {'Arad': 140, 'Oradea': 151, 'Fagaras': 99, 'Rimnicu': 80},\\\n",
        "            'Timisoara': {'Arad': 118, 'Lugoj': 111},\n",
        "            'Lugoj': {'Timisoara': 111, 'Mehadia': 70},\n",
        "            'Mehadia': {'Lugoj': 70, 'Drobeta': 75},\n",
        "            'Dobreta': {'Mehadia': 75, 'Craiova': 120},\n",
        "            'Craiova': {'Drobeta': 120, 'Rimnicu': 146, 'Pitesti': 138},\n",
        "            'Rimnicu': {'Sibiu': 80, 'Craiova': 146, 'Pitesti': 97},\n",
        "            'Fagaras': {'Sibiu': 99, 'Bucharest': 211},\n",
        "            'Pitesti': {'Rimnicu': 97, 'Craiova': 138, 'Bucharest': 101},\n",
        "            'Bucharest': {'Fagaras': 211, 'Pitesti': 101, 'Giurgiu': 90, 'Urziceni': 85},\n",
        "            'Giurgiu': {'Bucharest': 90},\n",
        "            'Urziceni': {'Bucharest': 85, 'Vaslui': 142, 'Hirsova': 98},\n",
        "            'Hirsova': {'Urziceni': 98, 'Eforie': 86},\n",
        "            'Eforie': {'Hirsova': 86},\n",
        "            'Vaslui': {'Iasi': 92, 'Urziceni': 142},\n",
        "            'Iasi': {'Vaslui': 92, 'Neamt': 87},\n",
        "            'Neamt': {'Iasi': 87}\n",
        "        }\n"
      ]
    },
    {
      "cell_type": "code",
      "source": [
        "listaAdj['Arad']['Timisoara']"
      ],
      "metadata": {
        "colab": {
          "base_uri": "https://localhost:8080/"
        },
        "id": "79HLHZ15FwFR",
        "outputId": "e40a9149-8a1c-4a46-f9f6-680924f4dd04"
      },
      "execution_count": null,
      "outputs": [
        {
          "output_type": "execute_result",
          "data": {
            "text/plain": [
              "118"
            ]
          },
          "metadata": {},
          "execution_count": 2
        }
      ]
    },
    {
      "cell_type": "code",
      "source": [
        "# HERE THE STRAIGHT LINE DISTANCE VALUES ARE IN REFERENCE TO BUCHAREST AS THE DESTINATION\n",
        "straight_line = {\n",
        "                        'Arad': 366,\n",
        "                        'Zerind': 374,\n",
        "                        'Oradea': 380,\n",
        "                        'Sibiu': 253,\n",
        "                        'Timisoara': 329,\n",
        "                        'Lugoj': 244,\n",
        "                        'Mehadia': 241,\n",
        "                        'Dobreta': 242,\n",
        "                        'Craiova': 160,\n",
        "                        'Rimnicu': 193,\n",
        "                        'Fagaras': 176,\n",
        "                        'Pitesti': 100,\n",
        "                        'Bucharest': 0,\n",
        "                        'Giurgiu': 77,\n",
        "                        'Urziceni': 80,\n",
        "                        'Hirsova': 151,\n",
        "                        'Eforie': 161,\n",
        "                        'Vaslui': 199,\n",
        "                        'Iasi': 226,\n",
        "                        'Neamt': 234\n",
        "                    }"
      ],
      "metadata": {
        "id": "njxrbSWZC9hg"
      },
      "execution_count": null,
      "outputs": []
    },
    {
      "cell_type": "code",
      "source": [
        "import networkx as nx\n",
        "# Fonte https://www.geeksforgeeks.org/visualize-graphs-in-python/\n",
        "# Defining a Class\n",
        "class GraphVisualization:\n",
        "   \n",
        "    def __init__(self):\n",
        "          \n",
        "        # visual is a list which stores all \n",
        "        # the set of edges that constitutes a\n",
        "        # graph\n",
        "        self.visual = []\n",
        "          \n",
        "    # addEdge function inputs the vertices of an\n",
        "    # edge and appends it to the visual list\n",
        "    def addEdge(self, a, b):\n",
        "        temp = [a, b]\n",
        "        self.visual.append(temp)\n",
        "          \n",
        "    # In visualize function G is an object of\n",
        "    # class Graph given by networkx G.add_edges_from(visual)\n",
        "    # creates a graph with a given list\n",
        "    # nx.draw_networkx(G) - plots the graph\n",
        "    # plt.show() - displays the graph\n",
        "    def visualize(self):\n",
        "        G = nx.Graph()\n",
        "        G.add_edges_from(self.visual)\n",
        "        nx.draw_networkx(G)\n",
        "        #plt.show()"
      ],
      "metadata": {
        "id": "3s64e0nWBKoI"
      },
      "execution_count": null,
      "outputs": []
    },
    {
      "cell_type": "code",
      "source": [
        "def a_star(source, destination, graph):\n",
        "    \"\"\"Optimal path from source to destination using straight line distance heuristic\n",
        "    :param source: Source city name\n",
        "    :param destination: Destination city name\n",
        "    :param graph: Create a graph for visualization\n",
        "    :returns: Heuristic value, cost and path for optimal traversal\n",
        "    \"\"\"\n",
        "    \n",
        "    from queue import PriorityQueue\n",
        "    priority_queue, visited = PriorityQueue(), {}   \n",
        "    priority_queue.put((straight_line[source], 0, source, [source]))\n",
        "    visited[source] = straight_line[source]\n",
        "    while not priority_queue.empty():\n",
        "        (heuristic, cost, city, path) = priority_queue.get()\n",
        "        print(city)\n",
        "        print(destination)\n",
        "        if city == destination:\n",
        "            return heuristic, cost, path\n",
        "        \n",
        "        #Visit all adjacent cities from current vertex    \n",
        "        for next_city in listaAdj[city].keys():\n",
        "            graph.addEdge(city, next_city)            \n",
        "            current_cost = cost + listaAdj[city][next_city]\n",
        "            heuristic = current_cost + straight_line[next_city]\n",
        "            if not next_city in visited or visited[next_city] >= heuristic:\n",
        "                print(next_city)\n",
        "                print(heuristic)                \n",
        "                visited[next_city] = heuristic\n",
        "                priority_queue.put((heuristic, current_cost, next_city, path + [next_city]))     "
      ],
      "metadata": {
        "id": "Ali823EvC3CQ"
      },
      "execution_count": null,
      "outputs": []
    },
    {
      "cell_type": "code",
      "source": [
        "print('\\nA Estrela:')\n",
        "G = GraphVisualization()\n",
        "heuristic, cost, optimal_path = a_star('Arad', 'Bucharest', G)\n",
        "print(optimal_path)\n",
        "print(heuristic)\n",
        "G.visualize()"
      ],
      "metadata": {
        "colab": {
          "base_uri": "https://localhost:8080/",
          "height": 873
        },
        "id": "eI1aIjXFDFBW",
        "outputId": "2d0d1752-6c30-4fef-e15c-3dd190840c8c"
      },
      "execution_count": null,
      "outputs": [
        {
          "output_type": "stream",
          "name": "stdout",
          "text": [
            "\n",
            "A Estrela:\n",
            "Arad\n",
            "Bucharest\n",
            "Sibiu\n",
            "393\n",
            "Zerind\n",
            "449\n",
            "Timisoara\n",
            "447\n",
            "Sibiu\n",
            "Bucharest\n",
            "Oradea\n",
            "671\n",
            "Fagaras\n",
            "415\n",
            "Rimnicu\n",
            "413\n",
            "Rimnicu\n",
            "Bucharest\n",
            "Craiova\n",
            "526\n",
            "Pitesti\n",
            "417\n",
            "Fagaras\n",
            "Bucharest\n",
            "Bucharest\n",
            "450\n",
            "Pitesti\n",
            "Bucharest\n",
            "Bucharest\n",
            "418\n",
            "Bucharest\n",
            "Bucharest\n",
            "['Arad', 'Sibiu', 'Rimnicu', 'Pitesti', 'Bucharest']\n",
            "418\n"
          ]
        },
        {
          "output_type": "display_data",
          "data": {
            "text/plain": [
              "<Figure size 432x288 with 1 Axes>"
            ],
            "image/png": "[encoded data removed]"
          },
          "metadata": {}
        }
      ]
    },
    {
      "cell_type": "code",
      "source": [
        "from queue import PriorityQueue\n",
        "customers = PriorityQueue() #we initialise the PQ class instead of using a function to operate upon a list. \n",
        "customers.put((366, 0, 'Arad', ['Arad']))\n",
        "customers.put((393, 140, 'Sibiu', ['Arad', 'Sibiu']))\n",
        "customers.put((449, 75, 'Zerind', ['Arad', 'Zerind']))\n",
        "customers.put((447, 118, 'Timisoara', ['Arad', 'Timisoara']))\n",
        "customers.put((671, 291, 'Oradea', ['Arad', 'Sibiu', 'Oradea']))\n",
        "customers.put((415, 239, 'Fagaras', ['Arad', 'Sibiu', 'Fagaras']))\n",
        "customers.put((413, 220, 'Rimnicu', ['Arad', 'Sibiu', 'Rimnicu']))\n",
        "customers.put((526, 366, 'Craiova', ['Arad', 'Sibiu', 'Rimnicu', 'Craiova']))\n",
        "customers.put((417, 317, 'Pitesti', ['Arad', 'Sibiu', 'Rimnicu', 'Pitesti']))\n",
        "customers.put((450, 450, 'Bucharest', ['Arad', 'Sibiu', 'Fagaras', 'Bucharest']))\n",
        "while not customers.empty():\n",
        "     print(customers.get())\n"
      ],
      "metadata": {
        "colab": {
          "base_uri": "https://localhost:8080/"
        },
        "id": "zgpRYOhDyAr4",
        "outputId": "0611e1bf-16b7-467a-bd78-7d9cf87df3ea"
      },
      "execution_count": null,
      "outputs": [
        {
          "output_type": "stream",
          "name": "stdout",
          "text": [
            "(366, 0, 'Arad', ['Arad'])\n",
            "(393, 140, 'Sibiu', ['Arad', 'Sibiu'])\n",
            "(413, 220, 'Rimnicu', ['Arad', 'Sibiu', 'Rimnicu'])\n",
            "(415, 239, 'Fagaras', ['Arad', 'Sibiu', 'Fagaras'])\n",
            "(417, 317, 'Pitesti', ['Arad', 'Sibiu', 'Rimnicu', 'Pitesti'])\n",
            "(447, 118, 'Timisoara', ['Arad', 'Timisoara'])\n",
            "(449, 75, 'Zerind', ['Arad', 'Zerind'])\n",
            "(450, 450, 'Bucharest', ['Arad', 'Sibiu', 'Fagaras', 'Bucharest'])\n",
            "(526, 366, 'Craiova', ['Arad', 'Sibiu', 'Rimnicu', 'Craiova'])\n",
            "(671, 291, 'Oradea', ['Arad', 'Sibiu', 'Oradea'])\n"
          ]
        }
      ]
    }
  ]
}
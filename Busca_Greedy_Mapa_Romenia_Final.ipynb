{
  "cells": [
    {
      "cell_type": "code",
      "source": [
        "listaAdj = {} # para cada chave (cidade) é gerado um lista de adjacentes\n",
        "vizinhos = []\n",
        "dados = open(\"cidades.txt\",\"r\")\n",
        "linha = dados.readline()\n",
        "while linha:\n",
        "    valores = linha.split(\",\")\n",
        "    if valores[0] in listaAdj:\n",
        "      vizinhos = listaAdj.get(valores[0])\n",
        "      vizinhos.append(valores[1])\n",
        "      listaAdj[valores[0]] = vizinhos\n",
        "    else:\n",
        "      vizinhos = []\n",
        "      listaAdj[valores[0]] = list()\n",
        "      vizinhos.append(valores[1])\n",
        "      listaAdj[valores[0]] = vizinhos    \n",
        "    \n",
        "    linha = dados.readline()\n",
        "\n",
        "dados.close()\n"
      ],
      "metadata": {
        "id": "qTNVYES7y9h0"
      },
      "execution_count": null,
      "outputs": []
    },
    {
      "cell_type": "code",
      "execution_count": null,
      "metadata": {
        "colab": {
          "base_uri": "https://localhost:8080/"
        },
        "id": "_hcfB3jU0rNP",
        "outputId": "911495b2-c2e0-4b9e-d931-d7150d9913b7"
      },
      "outputs": [
        {
          "output_type": "stream",
          "name": "stdout",
          "text": [
            "{'Arad': ['Zerind', 'Timisoara', 'Sibiu'], 'Zerind': ['Oradea'], 'Oradea': ['Sibiu'], 'Timisoara': ['Lugoj'], 'Lugoj': ['Mehadia'], 'Mehadia': ['Drobeta'], 'Drobeta': ['Craiova'], 'Craiova': ['Rimnicu_Vilcea', 'Pitesti'], 'Sibiu': ['Fagaras', 'Rimnicu_Vilcea'], 'Rimnicu_Vilcea': ['Pitesti'], 'Fagaras': ['Bucharest'], 'Pitesti': ['Bucharest'], 'Bucharest': ['Urziceni', 'Giurgiu'], 'Urziceni': ['Vaslui', 'Hirsova'], 'Vaslui': ['Iasi'], 'Iasi': ['Neamt'], 'Hirsova': ['Eforie']}\n"
          ]
        }
      ],
      "source": [
        "print(listaAdj)"
      ]
    },
    {
      "cell_type": "code",
      "execution_count": null,
      "metadata": {
        "id": "AcxP6V2XyxQ7"
      },
      "outputs": [],
      "source": [
        "import networkx as nx"
      ]
    },
    {
      "cell_type": "code",
      "execution_count": null,
      "metadata": {
        "id": "VEu4BXkjyxQ7"
      },
      "outputs": [],
      "source": [
        "# Fonte https://www.geeksforgeeks.org/visualize-graphs-in-python/\n",
        "# Defining a Class\n",
        "class GraphVisualization:\n",
        "   \n",
        "    def __init__(self):\n",
        "          \n",
        "        # visual is a list which stores all \n",
        "        # the set of edges that constitutes a\n",
        "        # graph\n",
        "        self.visual = []\n",
        "          \n",
        "    # addEdge function inputs the vertices of an\n",
        "    # edge and appends it to the visual list\n",
        "    def addEdge(self, a, b):\n",
        "        temp = [a, b]\n",
        "        self.visual.append(temp)\n",
        "          \n",
        "    # In visualize function G is an object of\n",
        "    # class Graph given by networkx G.add_edges_from(visual)\n",
        "    # creates a graph with a given list\n",
        "    # nx.draw_networkx(G) - plots the graph\n",
        "    # plt.show() - displays the graph\n",
        "    def visualize(self):\n",
        "        G = nx.Graph()\n",
        "        G.add_edges_from(self.visual)\n",
        "        nx.draw_networkx(G)\n",
        "        #plt.show()"
      ]
    },
    {
      "cell_type": "markdown",
      "metadata": {
        "id": "VQp-wdNfCBGh"
      },
      "source": [
        "Busca Gulosa"
      ]
    },
    {
      "cell_type": "markdown",
      "metadata": {
        "id": "lFcd2kJZG83U"
      },
      "source": [
        "- https://github.com/salahbeeh/Greedy-BFS-.VS-BFS/blob/master/Greedy%20BFS%20Graph/BFS%20Graph.py\n",
        "\n",
        "- https://github.com/coderIlluminatus/Artificial-Intelligence/blob/master/IIIT-A%20Lab%20(IAIN532C)/Lab%202/romanian_paths.py"
      ]
    },
    {
      "cell_type": "code",
      "execution_count": null,
      "metadata": {
        "id": "E4XRw2DTGWIj"
      },
      "outputs": [],
      "source": [
        "import queue as Q"
      ]
    },
    {
      "cell_type": "code",
      "execution_count": null,
      "metadata": {
        "id": "CksJKyuJGRy7"
      },
      "outputs": [],
      "source": [
        "def getHeuristics(size):\n",
        "\theuristics = {}\n",
        "\tf = open('heuristics.txt')\n",
        "\tfor i in range(size):\n",
        "\t\tnode_heuristic_val = f.readline().split()\n",
        "\t\theuristics[node_heuristic_val[0]] = node_heuristic_val[1]\n",
        "\treturn heuristics"
      ]
    },
    {
      "cell_type": "code",
      "execution_count": null,
      "metadata": {
        "id": "xdgH7tw97gJS"
      },
      "outputs": [],
      "source": []
    },
    {
      "cell_type": "code",
      "execution_count": null,
      "metadata": {
        "id": "-aHxIwQjGfY8"
      },
      "outputs": [],
      "source": [
        "def getFilaPrioridade(list, distancias):\n",
        "\t#print(list)\n",
        "\tq = Q.PriorityQueue()\n",
        "\tfor node in list:\n",
        "\t\t#print(type(distancias[node]))\n",
        "\t\tq.put(distancias[node],node)\n",
        "\treturn q,len(list)"
      ]
    },
    {
      "cell_type": "code",
      "execution_count": null,
      "metadata": {
        "id": "fThlxUD59gpX"
      },
      "outputs": [],
      "source": [
        "def getNomeCidade(d, val):\n",
        "    return [k for k, v in d.items() if v == val]\n"
      ]
    },
    {
      "cell_type": "code",
      "execution_count": null,
      "metadata": {
        "id": "o7Ov1wnLusW_"
      },
      "outputs": [],
      "source": [
        "class Greedy:\n",
        "    def __init__(self, objetivo):\n",
        "        self.objetivo = objetivo\n",
        "        self.achou = False\n",
        "        self.visitado ={}\n",
        "\n",
        "    def setVisitados(self, list):\n",
        "        for i in list:\n",
        "            self.visitado[i] = False  #Borda/Fronteira      \n",
        "\n",
        "    def buscar(self, atual, distancias, graph):\n",
        "        print(\"\\nAtual: %s\" % atual)\n",
        "        self.visitado[atual] = True\n",
        "        \n",
        "        if atual == self.objetivo:\n",
        "            self.achou = True\n",
        "        else:\n",
        "            self.lista = []\n",
        "            self.filaP, tamanho = getFilaPrioridade(listaAdj[atual],distancias)\n",
        "                           \n",
        "            for i in range(tamanho):\n",
        "              #Obtem o menor de custo na Fila de prioridades\n",
        "              self.custo = self.filaP.get()\n",
        "              #Obtem o nome da cidade a partir do custo (valor único!)\n",
        "              self.cidade = getNomeCidade(distancias, self.custo) \n",
        "              #print(self.cidade)\n",
        "              #lista esta em formato list. Recupera sempre o indice [0]\n",
        "              #Vértice com menor custo             \n",
        "              self.lista.append(self.cidade[0])\n",
        "              graph.addEdge(atual, self.cidade[0])\n",
        "            \n",
        "            #Percorrer os vizinhos da cidade contida em lista              \n",
        "            for i in self.lista:            \n",
        "                 if self.achou is not True:\n",
        "                   print(\"Ir para cidade: %s\" % i)\n",
        "                   if self.visitado[i] == False:\n",
        "                       Greedy.buscar(self, i, distancias, graph)                    "
      ]
    },
    {
      "cell_type": "code",
      "execution_count": null,
      "metadata": {
        "id": "5U30pKpS6EEY"
      },
      "outputs": [],
      "source": []
    },
    {
      "cell_type": "code",
      "execution_count": null,
      "metadata": {
        "colab": {
          "base_uri": "https://localhost:8080/",
          "height": 439
        },
        "id": "4zDA4thLsGOi",
        "outputId": "86c10d46-889a-47e3-bf8f-85dd2625a4ab"
      },
      "outputs": [
        {
          "output_type": "stream",
          "name": "stdout",
          "text": [
            "\n",
            "Atual: Arad\n",
            "Ir para cidade: Sibiu\n",
            "\n",
            "Atual: Sibiu\n",
            "Ir para cidade: Fagaras\n",
            "\n",
            "Atual: Fagaras\n",
            "Ir para cidade: Bucharest\n",
            "\n",
            "Atual: Bucharest\n"
          ]
        },
        {
          "output_type": "display_data",
          "data": {
            "text/plain": [
              "<Figure size 432x288 with 1 Axes>"
            ],
            "image/png": "[encoded data removed]"
          },
          "metadata": {}
        }
      ],
      "source": [
        "cidades = list(listaAdj.keys())\n",
        "#print(cidades)\n",
        "heuristics = getHeuristics(20)\n",
        "#print(heuristics)\n",
        "G = GraphVisualization()\n",
        "greedy = Greedy('Bucharest')\n",
        "greedy.setVisitados(cidades)\n",
        "greedy.buscar('Arad', heuristics, G)\n",
        "G.visualize()"
      ]
    },
    {
      "cell_type": "code",
      "source": [],
      "metadata": {
        "id": "p3h4jo4d5uY7"
      },
      "execution_count": null,
      "outputs": []
    },
    {
      "cell_type": "code",
      "source": [],
      "metadata": {
        "id": "MXuV11o-5uVm"
      },
      "execution_count": null,
      "outputs": []
    },
    {
      "cell_type": "markdown",
      "source": [
        "## **Exemplo com Fila de Prioridade:**"
      ],
      "metadata": {
        "id": "ki0MZ2ipe9GX"
      }
    },
    {
      "cell_type": "code",
      "source": [
        "from queue import PriorityQueue\n",
        "customers = PriorityQueue() #we initialise the PQ class instead of using a function to operate upon a list. \n",
        "customers.put((366, 'Arad'))\n",
        "customers.put((393, 'Sibiu'))\n",
        "customers.put((449, 'Zerind'))\n",
        "customers.put((447, 'Timisoara'))\n",
        "customers.put((671, 'Oradea'))\n",
        "customers.put((415, 'Fagaras'))\n",
        "customers.put((413, 'Rimnicu'))\n",
        "customers.put((526, 'Craiova'))\n",
        "customers.put((417, 'Pitesti'))\n",
        "customers.put((0, 'Bucharest'))\n",
        "while not customers.empty():\n",
        "   print(customers.get())\n"
      ],
      "metadata": {
        "colab": {
          "base_uri": "https://localhost:8080/"
        },
        "id": "3o7GR01a5uSH",
        "outputId": "fe9eb612-9f4c-4ad1-bc5c-3bb01a179141"
      },
      "execution_count": null,
      "outputs": [
        {
          "output_type": "stream",
          "name": "stdout",
          "text": [
            "(0, 'Bucharest')\n",
            "(366, 'Arad')\n",
            "(393, 'Sibiu')\n",
            "(413, 'Rimnicu')\n",
            "(415, 'Fagaras')\n",
            "(417, 'Pitesti')\n",
            "(447, 'Timisoara')\n",
            "(449, 'Zerind')\n",
            "(526, 'Craiova')\n",
            "(671, 'Oradea')\n"
          ]
        }
      ]
    },
    {
      "cell_type": "code",
      "source": [],
      "metadata": {
        "id": "bVl-Zj-M5uKh"
      },
      "execution_count": null,
      "outputs": []
    }
  ],
  "metadata": {
    "colab": {
      "collapsed_sections": [],
      "provenance": []
    },
    "kernelspec": {
      "display_name": "IA",
      "language": "python",
      "name": "ia"
    },
    "language_info": {
      "codemirror_mode": {
        "name": "ipython",
        "version": 3
      },
      "file_extension": ".py",
      "mimetype": "text/x-python",
      "name": "python",
      "nbconvert_exporter": "python",
      "pygments_lexer": "ipython3",
      "version": "3.10.4"
    }
  },
  "nbformat": 4,
  "nbformat_minor": 0
}